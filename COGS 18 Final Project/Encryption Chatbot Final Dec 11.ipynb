{
 "cells": [
  {
   "cell_type": "markdown",
   "metadata": {},
   "source": [
    "This Project can be found on GitHub under COGS 18 Final Project by rpkane. A link is attached below.\n",
    "https://github.com/rpkane/COGS-18-Final-Project"
   ]
  },
  {
   "cell_type": "markdown",
   "metadata": {},
   "source": [
    "I used the chatbot function from assignment 3 as a basis to build the chatbot from.\n",
    "\n",
    "This project is designed to be a chatbot that can act as a calculator or an encryptor. The project takes input strings and then can run functions according to the output. The 2 available functions are either a calculator or an encryption / decryption function. The calculator can add, subtract, multiply, divide, and raise to a power any number of integers, and can provide a remainder for 2 integers.\n",
    "\n",
    "For the chatbot to work, please input either 'add', 'subtract', 'multiply', 'divide', 'remainder', or 'power' to activate the calculator, or 'encrypt' or 'decrypt' to activate the encryption function. Once this is done, please enter the numbers you would like to calculate, separated by spaces. If using the encryption or decryption functions, when prompted please input the phrase you would like encrypted or decrypted.\n",
    "\n",
    "To exit the chatbot, please type 'quit'."
   ]
  },
  {
   "cell_type": "code",
   "execution_count": null,
   "metadata": {},
   "outputs": [],
   "source": [
    "from my_module.functions import wiri"
   ]
  },
  {
   "cell_type": "code",
   "execution_count": null,
   "metadata": {},
   "outputs": [],
   "source": [
    "wiri()"
   ]
  },
  {
   "cell_type": "code",
   "execution_count": null,
   "metadata": {},
   "outputs": [],
   "source": []
  }
 ],
 "metadata": {
  "kernelspec": {
   "display_name": "Python 3",
   "language": "python",
   "name": "python3"
  },
  "language_info": {
   "codemirror_mode": {
    "name": "ipython",
    "version": 3
   },
   "file_extension": ".py",
   "mimetype": "text/x-python",
   "name": "python",
   "nbconvert_exporter": "python",
   "pygments_lexer": "ipython3",
   "version": "3.7.0"
  }
 },
 "nbformat": 4,
 "nbformat_minor": 2
}
